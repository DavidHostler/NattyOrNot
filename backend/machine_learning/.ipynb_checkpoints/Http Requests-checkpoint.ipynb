{
 "cells": [
  {
   "cell_type": "code",
   "execution_count": null,
   "metadata": {},
   "outputs": [],
   "source": [
    "import requests\n",
    " \n",
    "\n",
    "#Machine learning related imports \n",
    "\n",
    "import tensorflow as tf\n",
    "import numpy as np\n",
    "from tensorflow import keras\n",
    "import os\n",
    "import cv2\n",
    "from tensorflow.keras.preprocessing.image import ImageDataGenerator\n",
    "from tensorflow.keras.preprocessing import image\n",
    "from tensorflow.keras.models import Sequential\n",
    "from tensorflow.keras.layers import(Dense, Dropout, Activation, Flatten)\n",
    "from tensorflow.keras.layers import Conv2D, MaxPooling2D\n",
    "import matplotlib.pyplot as plt\n",
    "\n",
    "#To perform Http requests to update data \n",
    "import requests\n",
    "#The key in the key-value pair aka dictionary must be equal to the name/id field of\n",
    "#the model in django in models.py; in this case it is just \"name\". Any string that does\n",
    "#not designate the title of a django model field will return a 400 error response code.\n",
    "#201 means that post request to database thru API endpoint was successful\n",
    "# r = requests.post('http://127.0.0.1:8000/tests/', json={\"name\":  \"Chungus\"})\n",
    "# r.status_code\n",
    "#The key in the key-value pair aka dictionary must be equal to the name/id field of\n",
    "#the model in django in models.py; in this case it is just \"name\". Any string that does\n",
    "#not designate the title of a django model field will return a 400 error response code.\n",
    "#201 means that post request to database thru API endpoint was successful\n",
    " "
   ]
  },
  {
   "cell_type": "code",
   "execution_count": 13,
   "metadata": {},
   "outputs": [
    {
     "data": {
      "text/plain": [
       "{'name': 'Chungus'}"
      ]
     },
     "execution_count": 13,
     "metadata": {},
     "output_type": "execute_result"
    }
   ],
   "source": []
  },
  {
   "cell_type": "code",
   "execution_count": null,
   "metadata": {},
   "outputs": [],
   "source": []
  }
 ],
 "metadata": {
  "kernelspec": {
   "display_name": "Python 3",
   "language": "python",
   "name": "python3"
  },
  "language_info": {
   "codemirror_mode": {
    "name": "ipython",
    "version": 3
   },
   "file_extension": ".py",
   "mimetype": "text/x-python",
   "name": "python",
   "nbconvert_exporter": "python",
   "pygments_lexer": "ipython3",
   "version": "3.8.10"
  }
 },
 "nbformat": 4,
 "nbformat_minor": 4
}
